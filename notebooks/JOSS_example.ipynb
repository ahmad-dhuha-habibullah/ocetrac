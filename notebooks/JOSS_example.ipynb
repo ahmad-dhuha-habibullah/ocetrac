{
 "cells": [
  {
   "cell_type": "markdown",
   "id": "local-extension",
   "metadata": {},
   "source": [
    "## Example use case of Octrac"
   ]
  },
  {
   "cell_type": "code",
   "execution_count": 1,
   "id": "jewish-attribute",
   "metadata": {},
   "outputs": [],
   "source": [
    "import s3fs\n",
    "import xarray as xr\n",
    "import numpy as np\n",
    "import pandas as pd\n",
    "import dask.array as da\n",
    "import ocetrac\n",
    "\n",
    "import matplotlib.pyplot as plt\n",
    "import cartopy.crs as ccrs\n",
    "\n",
    "import warnings\n",
    "warnings.filterwarnings('ignore')"
   ]
  },
  {
   "cell_type": "markdown",
   "id": "boring-operation",
   "metadata": {},
   "source": [
    "### Import NOAA OISST v2.1 dataset and resample monthly means"
   ]
  },
  {
   "cell_type": "code",
   "execution_count": null,
   "id": "occupational-newspaper",
   "metadata": {},
   "outputs": [],
   "source": [
    "endpoint_url = 'https://ncsa.osn.xsede.org'\n",
    "fs_osn = s3fs.S3FileSystem(anon=True, client_kwargs={'endpoint_url': endpoint_url},)\n",
    "\n",
    "path = \"Pangeo/pangeo-forge/noaa_oisst/v2.1-avhrr.zarr\"\n",
    "ds = xr.open_zarr(fs_osn.get_mapper(path), consolidated=True, decode_timedelta=True).resample(time='MS').mean()\n",
    "print(ds)"
   ]
  },
  {
   "cell_type": "markdown",
   "id": "fifty-nature",
   "metadata": {},
   "source": [
    "### Feature thresholding"
   ]
  },
  {
   "cell_type": "code",
   "execution_count": null,
   "id": "filled-outline",
   "metadata": {},
   "outputs": [],
   "source": [
    "# Compute values of the monthly threshold defined using the 90th percentile\n",
    "\n",
    "if ds.anom.chunks:\n",
    "    ds['anom'] = ds.anom.chunk({'time': -1})\n",
    "    \n",
    "threshold = ds.anom.quantile(.9, dim=('time'))\n",
    "features_ssta = ds.anom.where(ds.anom>=threshold, other=np.nan).isel(zlev=0)\n"
   ]
  },
  {
   "cell_type": "code",
   "execution_count": null,
   "id": "veterinary-signal",
   "metadata": {},
   "outputs": [],
   "source": [
    "%%time \n",
    "# Just take the first 100 time steps\n",
    "# features_ssta= features_ssta[:100,:,:].load()\n",
    "features_ssta.load()"
   ]
  },
  {
   "cell_type": "code",
   "execution_count": null,
   "id": "running-craft",
   "metadata": {},
   "outputs": [],
   "source": [
    "features_ssta.isel(time=-1).plot()"
   ]
  },
  {
   "cell_type": "code",
   "execution_count": 4,
   "id": "loved-semiconductor",
   "metadata": {},
   "outputs": [
    {
     "data": {
      "text/plain": [
       "<matplotlib.collections.QuadMesh at 0x7f1da2d15370>"
      ]
     },
     "execution_count": 4,
     "metadata": {},
     "output_type": "execute_result"
    },
    {
     "data": {
      "image/png": "[encoded data removed]",
      "text/plain": [
       "<Figure size 432x288 with 2 Axes>"
      ]
     },
     "metadata": {
      "needs_background": "light"
     },
     "output_type": "display_data"
    }
   ],
   "source": [
    "# Binary conversion\n",
    "binary_out = np.isfinite(features_ssta)\n",
    "binary_out.isel(time=0).plot()"
   ]
  },
  {
   "cell_type": "code",
   "execution_count": null,
   "id": "scheduled-piano",
   "metadata": {},
   "outputs": [],
   "source": [
    "mask = np.isfinite(ds.sst.isel(time=0, zlev=0))\n",
    "mask.plot()"
   ]
  },
  {
   "cell_type": "code",
   "execution_count": null,
   "id": "smart-insert",
   "metadata": {},
   "outputs": [],
   "source": [
    "%%time\n",
    "Tracker = ocetrac.Tracker(binary_out, mask, radius=8, min_size_quartile=0.75, timedim='time', xdim='lon', ydim='lat', positive=True)\n",
    "blobs = Tracker.track()"
   ]
  },
  {
   "cell_type": "code",
   "execution_count": null,
   "id": "lonely-council",
   "metadata": {},
   "outputs": [],
   "source": [
    "blobs.attrs"
   ]
  },
  {
   "cell_type": "code",
   "execution_count": null,
   "id": "medical-plate",
   "metadata": {},
   "outputs": [],
   "source": [
    "blobs.sel(time=slice('01-01-2014', '03-01-2014'), col='time', col_wrap=4).plot()"
   ]
  },
  {
   "cell_type": "code",
   "execution_count": null,
   "id": "indonesian-symposium",
   "metadata": {},
   "outputs": [],
   "source": []
  },
  {
   "cell_type": "code",
   "execution_count": null,
   "id": "ready-expression",
   "metadata": {},
   "outputs": [],
   "source": [
    "from matplotlib.colors import ListedColormap\n",
    "maxl = int(np.nanmax(blobs.values))\n",
    "cm = ListedColormap(np.random.random(size=(maxl, 3)).tolist())\n",
    "\n",
    "plt.figure(figsize=(16,3))\n",
    "ax1 = plt.subplot(121);blobs.isel(time=0).plot(cmap= cm)\n",
    "mask.where(mask==0).plot.contourf(colors='k', add_colorbar=False); ax1.set_aspect('equal')\n",
    "ax2 = plt.subplot(122); features_ssta.isel(time=0).plot(cmap='Reds', vmin=0, vmax=3);\n",
    "mask.where(mask==0).plot.contourf(colors='k', add_colorbar=False); ax2.set_aspect('equal');"
   ]
  },
  {
   "cell_type": "code",
   "execution_count": null,
   "id": "matched-provincial",
   "metadata": {},
   "outputs": [],
   "source": [
    "id = 35\n",
    "event = blobs.where(blobs==id, drop=True)\n"
   ]
  },
  {
   "cell_type": "code",
   "execution_count": null,
   "id": "abstract-criminal",
   "metadata": {},
   "outputs": [],
   "source": [
    "# Create intensity image for the Indian Ocean marine heatwave\n",
    "event_intensity = ds.anom.isel(zlev=0).where((ds.time==event.time) & \n",
    "                                             (ds.lat==event.lat) & \n",
    "                                             (ds.lon==event.lon), \n",
    "                                             drop=True).load();\n",
    "event_intensity = event_intensity.expand_dims(dim='intensity', axis=3)\n",
    "events_contour = event.fillna(0)\n",
    "\n",
    "plt.rc('font', size=12); plt.figure(figsize=(15,6));\n",
    "for i in enumerate(range(1,len(event.time))):\n",
    "    ax = plt.subplot(2,3,i[1],projection=ccrs.PlateCarree())\n",
    "    event_intensity.isel(time=i[0], intensity=0).plot(transform=ccrs.PlateCarree(), vmin=-2, vmax=2,  \n",
    "                                                      cmap='RdBu_r', extend='both', add_colorbar=True, add_labels=False)\n",
    "    plt.title(event.isel(time=i[0]).time.values.astype('datetime64[D]'))\n",
    "    ax.coastlines(resolution='110m', color='black', linewidth=1) \n",
    "    ax.add_feature(cfeature.LAND, facecolor='w');\n",
    "    events_contour.isel(time=i[0]).plot.contour(levels=[34,35], transform=ccrs.PlateCarree(), colors='b', linewidths=4, add_colorbar=False, add_labels=False)"
   ]
  },
  {
   "cell_type": "code",
   "execution_count": null,
   "id": "therapeutic-premises",
   "metadata": {},
   "outputs": [],
   "source": [
    "mo = Tracker._morphological_operations()"
   ]
  },
  {
   "cell_type": "code",
   "execution_count": null,
   "id": "neither-photograph",
   "metadata": {},
   "outputs": [],
   "source": [
    "mo.isel(time=0).plot()"
   ]
  },
  {
   "cell_type": "code",
   "execution_count": null,
   "id": "taken-market",
   "metadata": {},
   "outputs": [],
   "source": []
  }
 ],
 "metadata": {
  "kernelspec": {
   "display_name": "Python [conda env:ocetrac]",
   "language": "python",
   "name": "conda-env-ocetrac-py"
  },
  "language_info": {
   "codemirror_mode": {
    "name": "ipython",
    "version": 3
   },
   "file_extension": ".py",
   "mimetype": "text/x-python",
   "name": "python",
   "nbconvert_exporter": "python",
   "pygments_lexer": "ipython3",
   "version": "3.9.7"
  }
 },
 "nbformat": 4,
 "nbformat_minor": 5
}
