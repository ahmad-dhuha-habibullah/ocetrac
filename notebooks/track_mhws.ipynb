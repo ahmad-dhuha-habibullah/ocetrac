{
 "cells": [
  {
   "cell_type": "markdown",
   "id": "abandoned-catch",
   "metadata": {},
   "source": [
    "## Track Marine Heatwaves in CMIP6\n",
    "This notebook demonstrates how you can use `Ocetrac` to identify and track marine heatwaves from the CMIP6 data archive. \n"
   ]
  },
  {
   "cell_type": "code",
   "execution_count": null,
   "id": "lucky-associate",
   "metadata": {},
   "outputs": [],
   "source": []
  },
  {
   "cell_type": "code",
   "execution_count": null,
   "id": "several-convenience",
   "metadata": {},
   "outputs": [],
   "source": []
  }
 ],
 "metadata": {
  "kernelspec": {
   "display_name": "Python [conda env:notebook] *",
   "language": "python",
   "name": "conda-env-notebook-py"
  },
  "language_info": {
   "codemirror_mode": {
    "name": "ipython",
    "version": 3
   },
   "file_extension": ".py",
   "mimetype": "text/x-python",
   "name": "python",
   "nbconvert_exporter": "python",
   "pygments_lexer": "ipython3",
   "version": "3.8.6"
  }
 },
 "nbformat": 4,
 "nbformat_minor": 5
}
