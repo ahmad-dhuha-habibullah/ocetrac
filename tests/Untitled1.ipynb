{
 "cells": [
  {
   "cell_type": "code",
   "execution_count": 61,
   "id": "respective-salem",
   "metadata": {},
   "outputs": [],
   "source": [
    "from ocetrac.model import Tracker\n",
    "\n",
    "import pytest\n",
    "import xarray as xr\n",
    "import numpy as np\n",
    "import scipy.ndimage\n",
    "from skimage.measure import regionprops\n",
    "from skimage.measure import label as label_np\n",
    "import dask.array as dsa\n",
    "from xarray.tests import raise_if_dask_computes\n",
    "%matplotlib inline\n",
    "\n",
    "def example_data():\n",
    "\n",
    "    x = np.arange(-10,11,1)\n",
    "    y = np.arange(-10,11,1)\n",
    "    xdim = 'x'; ydim = 'y'\n",
    "    da = xr.DataArray(np.zeros((5,21,21)),\n",
    "                     dims=[\"time\", ydim, xdim],\n",
    "                     coords={\"time\": np.arange(1,6), ydim: y, xdim: x},\n",
    "                    )\n",
    "    da[0, 2:6, 2:9] = 1\n",
    "    da[0, 12:18, -6:-2] = 1\n",
    "\n",
    "    for i in enumerate(da.time[:-1].values):\n",
    "        da[i[1],:,:] = da.isel(time=i[0]).roll(x=2, roll_coords=False)\n",
    "\n",
    "    mask = xr.DataArray(np.ones(da.isel(time=0).shape),\n",
    "                    dims=[ydim, xdim],\n",
    "                    coords={ydim: y, xdim: x}\n",
    "                   )\n",
    "    mask[11:14,:3] = 0\n",
    "    mask[:4,5:6] = 0\n",
    "\n",
    "    return da, mask\n",
    "\n",
    "@pytest.mark.parametrize(\"radius\", [2, 4])\n",
    "@pytest.mark.parametrize(\"min_size_quartile\", [0.75, 0.80])\n",
    "@pytest.mark.parametrize('xdim', ['lon', 'longitude', 'whoo'])\n",
    "@pytest.mark.parametrize('ydim', ['lat', 'latitude', 'whaa'])\n",
    "@pytest.mark.parametrize('dask', [True, False])\n",
    "def test_track(da, mask, radius, min_size_quartile, xdim, ydim, dask):\n",
    "\n",
    "    da = da.rename({'x':xdim, 'y':ydim})\n",
    "    mask = mask.rename({'x':xdim, 'y':ydim})\n",
    "    if dask:\n",
    "        da = da.chunk({'time':1})\n",
    "\n",
    "    tracker = Tracker(da, mask, radius, min_size_quartile, xdim=xdim, ydim=ydim)\n",
    "    new_labels = tracker.track()\n",
    "\n",
    "    assert (\n",
    "        new_labels.attrs[\"percent area reject\"]\n",
    "        + new_labels.attrs[\"percent area accept\"]\n",
    "    ) == 1.0\n",
    "\n",
    "def test_track_dask_lazy(da, mask, radius=2, min_size_quartile=0.75, xdim='x', ydim='y'):\n",
    "    # Check that dask computation is lazy and results are the same for eager/lazy compute\n",
    "\n",
    "    da_chunked = da.chunk({'time':1})\n",
    "    # mask_chunked = mask.chunk({xdim:-1, ydim:-1})\n",
    "    mask_chunked = mask # dont chunk for now to not trigger the error in `self.mask == 0).all():`\n",
    "\n",
    "    tracker = Tracker(da, mask, radius, min_size_quartile, xdim=xdim, ydim=ydim)\n",
    "    labels = tracker.track()\n",
    "\n",
    "    with raise_if_dask_computes(): #temporarily deactivated\n",
    "        tracker_dask = Tracker(da_chunked, mask_chunked, radius, min_size_quartile, xdim=xdim, ydim=ydim)\n",
    "        labels_dask = tracker_dask.track()\n",
    "\n",
    "    xr.testing.assert_allclose(labels, labels_dask)\n",
    "\n",
    "def test_morphological_operations(da, mask, radius=2, min_size_quartile=0.75, xdim='x', ydim='y'):\n",
    "\n",
    "    tracker = Tracker(da.chunk({'time': 1}), mask, radius, min_size_quartile, xdim, ydim)\n",
    "    binary_images = tracker._morphological_operations()\n",
    "\n",
    "    assert isinstance(binary_images.data, dsa.Array)\n",
    "\n",
    "    ocetrac_guess = da.where(binary_images==True, drop=False, other=np.nan)\n",
    "    best_guess = da.where(da>0, drop=False, other=np.nan)\n",
    "    part = ocetrac_guess.isin(best_guess)\n",
    "    whole = best_guess.isin(best_guess)\n",
    "\n",
    "    assert part.sum().values/whole.sum().values*100 >= 80\n",
    "    assert part.sum().values == 260\n",
    "\n",
    "def test_apply_mask(da, mask, radius=2, min_size_quartile=0.75, xdim='x', ydim='y'):\n",
    "    \n",
    "    tracker = Tracker(da.chunk({'time': 1}), mask, radius, min_size_quartile, xdim, ydim)\n",
    "    binary_images = tracker._morphological_operations()\n",
    "    binary_images_with_mask = tracker._apply_mask(binary_images, mask)\n",
    "    assert (binary_images_with_mask.where(mask==0).sum()==0).all()\n",
    "\n",
    "def test_filter_area(da, mask, radius=2, min_size_quartile=0.75, xdim='x', ydim='y'):\n",
    "    \n",
    "    tracker = Tracker(da.chunk({'time': 1}), mask, radius, min_size_quartile, xdim, ydim)\n",
    "    binary_images = tracker._morphological_operations()\n",
    "    binary_images_with_mask = tracker._apply_mask(binary_images, mask)\n",
    "    area, min_area, binary_labels, N_initial = tracker._filter_area(binary_images_with_mask)\n",
    "\n",
    "    assert N_initial.astype(int) == 2\n",
    "    assert min_area == 129\n",
    "    \n",
    "\n",
    "def test_label_either(da, mask, radius=2, min_size_quartile=0.75, xdim='x', ydim='y'):\n",
    "    \n",
    "    tracker = Tracker(da.chunk({'time': 1}), mask, radius, min_size_quartile, xdim, ydim)\n",
    "    binary_images = tracker._morphological_operations()\n",
    "    binary_images_with_mask = tracker._apply_mask(binary_images, mask)\n",
    "    labels, num = tracker._label_either(binary_images_with_mask, return_num= True, connectivity=3)\n",
    "\n",
    "    assert labels[2,:,:].max() == 3.\n",
    "    assert all([i in labels[2,:,:] for i in range(0,4)])\n",
    "\n",
    "def test_wrap(da, mask, radius=2, min_size_quartile=0.75, xdim='x', ydim='y'):\n",
    "    \n",
    "    tracker = Tracker(da.chunk({'time': 1}), mask, radius, min_size_quartile, xdim, ydim)\n",
    "    binary_images = tracker._morphological_operations()\n",
    "    binary_images_with_mask = tracker._apply_mask(binary_images, mask)\n",
    "    area, min_area, binary_labels, N_initial = tracker._filter_area(binary_images_with_mask)\n",
    "    labels, num = tracker._label_either(binary_images_with_mask, return_num= True, connectivity=3)\n",
    "    labels_wrapped, N_final = tracker._wrap(labels)\n",
    "\n",
    "    assert N_final == 2\n"
   ]
  },
  {
   "cell_type": "code",
   "execution_count": 13,
   "id": "selected-stranger",
   "metadata": {},
   "outputs": [],
   "source": [
    "da, mask = example_data()"
   ]
  },
  {
   "cell_type": "code",
   "execution_count": 14,
   "id": "auburn-springer",
   "metadata": {},
   "outputs": [
    {
     "data": {
      "text/plain": [
       "<xarray.plot.facetgrid.FacetGrid at 0x7f93da282520>"
      ]
     },
     "execution_count": 14,
     "metadata": {},
     "output_type": "execute_result"
    },
    {
     "data": {
      "image/png": "[encoded data removed]",
      "text/plain": [
       "<Figure size 288x1080 with 6 Axes>"
      ]
     },
     "metadata": {
      "needs_background": "light"
     },
     "output_type": "display_data"
    }
   ],
   "source": [
    "da.plot(x=\"x\", y=\"y\", col=\"time\", col_wrap=1)"
   ]
  },
  {
   "cell_type": "code",
   "execution_count": 21,
   "id": "ongoing-optimization",
   "metadata": {},
   "outputs": [],
   "source": [
    "radius = 2\n",
    "min_size_quartile = .75\n",
    "xdim = 'x'\n",
    "ydim = 'y'\n",
    "dask=False"
   ]
  },
  {
   "cell_type": "code",
   "execution_count": 22,
   "id": "round-reputation",
   "metadata": {},
   "outputs": [
    {
     "name": "stdout",
     "output_type": "stream",
     "text": [
      "minimum area:  129.0\n",
      "inital objects identified \t 2\n",
      "final objects tracked \t 1\n"
     ]
    }
   ],
   "source": [
    "test_track(da, mask, radius, min_size_quartile, xdim, ydim, dask)"
   ]
  },
  {
   "cell_type": "code",
   "execution_count": 23,
   "id": "affected-yorkshire",
   "metadata": {
    "collapsed": true,
    "jupyter": {
     "outputs_hidden": true
    }
   },
   "outputs": [
    {
     "name": "stdout",
     "output_type": "stream",
     "text": [
      "minimum area:  108.0\n",
      "inital objects identified \t 2\n",
      "final objects tracked \t 2\n"
     ]
    },
    {
     "ename": "RuntimeError",
     "evalue": "Too many computes. Total: 1 > max: 0.",
     "output_type": "error",
     "traceback": [
      "\u001b[0;31m---------------------------------------------------------------------------\u001b[0m",
      "\u001b[0;31mRuntimeError\u001b[0m                              Traceback (most recent call last)",
      "\u001b[0;32m<ipython-input-23-cc22ad477647>\u001b[0m in \u001b[0;36m<module>\u001b[0;34m\u001b[0m\n\u001b[0;32m----> 1\u001b[0;31m \u001b[0mtest_track_dask_lazy\u001b[0m\u001b[0;34m(\u001b[0m\u001b[0mda\u001b[0m\u001b[0;34m,\u001b[0m \u001b[0mmask\u001b[0m\u001b[0;34m,\u001b[0m \u001b[0mradius\u001b[0m\u001b[0;34m=\u001b[0m\u001b[0;36m2\u001b[0m\u001b[0;34m,\u001b[0m \u001b[0mmin_size_quartile\u001b[0m\u001b[0;34m=\u001b[0m\u001b[0;36m0\u001b[0m\u001b[0;34m,\u001b[0m \u001b[0mxdim\u001b[0m\u001b[0;34m=\u001b[0m\u001b[0;34m'x'\u001b[0m\u001b[0;34m,\u001b[0m \u001b[0mydim\u001b[0m\u001b[0;34m=\u001b[0m\u001b[0;34m'y'\u001b[0m\u001b[0;34m)\u001b[0m\u001b[0;34m\u001b[0m\u001b[0;34m\u001b[0m\u001b[0m\n\u001b[0m",
      "\u001b[0;32m<ipython-input-12-f4a0f61d5bd2>\u001b[0m in \u001b[0;36mtest_track_dask_lazy\u001b[0;34m(da, mask, radius, min_size_quartile, xdim, ydim)\u001b[0m\n\u001b[1;32m     69\u001b[0m     \u001b[0;32mwith\u001b[0m \u001b[0mraise_if_dask_computes\u001b[0m\u001b[0;34m(\u001b[0m\u001b[0;34m)\u001b[0m\u001b[0;34m:\u001b[0m \u001b[0;31m#temporarily deactivated\u001b[0m\u001b[0;34m\u001b[0m\u001b[0;34m\u001b[0m\u001b[0m\n\u001b[1;32m     70\u001b[0m         \u001b[0mtracker_dask\u001b[0m \u001b[0;34m=\u001b[0m \u001b[0mTracker\u001b[0m\u001b[0;34m(\u001b[0m\u001b[0mda_chunked\u001b[0m\u001b[0;34m,\u001b[0m \u001b[0mmask_chunked\u001b[0m\u001b[0;34m,\u001b[0m \u001b[0mradius\u001b[0m\u001b[0;34m,\u001b[0m \u001b[0mmin_size_quartile\u001b[0m\u001b[0;34m,\u001b[0m \u001b[0mxdim\u001b[0m\u001b[0;34m=\u001b[0m\u001b[0mxdim\u001b[0m\u001b[0;34m,\u001b[0m \u001b[0mydim\u001b[0m\u001b[0;34m=\u001b[0m\u001b[0mydim\u001b[0m\u001b[0;34m)\u001b[0m\u001b[0;34m\u001b[0m\u001b[0;34m\u001b[0m\u001b[0m\n\u001b[0;32m---> 71\u001b[0;31m         \u001b[0mlabels_dask\u001b[0m \u001b[0;34m=\u001b[0m \u001b[0mtracker_dask\u001b[0m\u001b[0;34m.\u001b[0m\u001b[0mtrack\u001b[0m\u001b[0;34m(\u001b[0m\u001b[0;34m)\u001b[0m\u001b[0;34m\u001b[0m\u001b[0;34m\u001b[0m\u001b[0m\n\u001b[0m\u001b[1;32m     72\u001b[0m \u001b[0;34m\u001b[0m\u001b[0m\n\u001b[1;32m     73\u001b[0m     \u001b[0mxr\u001b[0m\u001b[0;34m.\u001b[0m\u001b[0mtesting\u001b[0m\u001b[0;34m.\u001b[0m\u001b[0massert_allclose\u001b[0m\u001b[0;34m(\u001b[0m\u001b[0mlabels\u001b[0m\u001b[0;34m,\u001b[0m \u001b[0mlabels_dask\u001b[0m\u001b[0;34m)\u001b[0m\u001b[0;34m\u001b[0m\u001b[0;34m\u001b[0m\u001b[0m\n",
      "\u001b[0;32m~/ocetrac/ocetrac/model.py\u001b[0m in \u001b[0;36mtrack\u001b[0;34m(self)\u001b[0m\n\u001b[1;32m     64\u001b[0m         \u001b[0mbinary_images_with_mask\u001b[0m  \u001b[0;34m=\u001b[0m \u001b[0mself\u001b[0m\u001b[0;34m.\u001b[0m\u001b[0m_apply_mask\u001b[0m\u001b[0;34m(\u001b[0m\u001b[0mbinary_images\u001b[0m\u001b[0;34m,\u001b[0m\u001b[0mself\u001b[0m\u001b[0;34m.\u001b[0m\u001b[0mmask\u001b[0m\u001b[0;34m)\u001b[0m \u001b[0;31m# perhaps change to method? JB\u001b[0m\u001b[0;34m\u001b[0m\u001b[0;34m\u001b[0m\u001b[0m\n\u001b[1;32m     65\u001b[0m \u001b[0;34m\u001b[0m\u001b[0m\n\u001b[0;32m---> 66\u001b[0;31m         \u001b[0;32mif\u001b[0m \u001b[0;34m(\u001b[0m\u001b[0mbinary_images_with_mask\u001b[0m \u001b[0;34m==\u001b[0m \u001b[0;36m0\u001b[0m\u001b[0;34m)\u001b[0m\u001b[0;34m.\u001b[0m\u001b[0mall\u001b[0m\u001b[0;34m(\u001b[0m\u001b[0;34m)\u001b[0m\u001b[0;34m:\u001b[0m\u001b[0;34m\u001b[0m\u001b[0;34m\u001b[0m\u001b[0m\n\u001b[0m\u001b[1;32m     67\u001b[0m             \u001b[0;32mraise\u001b[0m \u001b[0mValueError\u001b[0m\u001b[0;34m(\u001b[0m\u001b[0;34m'No features found in `da` input. Try adjusting `radius` and `min_size_quartile`'\u001b[0m\u001b[0;34m)\u001b[0m\u001b[0;34m\u001b[0m\u001b[0;34m\u001b[0m\u001b[0m\n\u001b[1;32m     68\u001b[0m \u001b[0;34m\u001b[0m\u001b[0m\n",
      "\u001b[0;32m/srv/conda/envs/ocetrac/lib/python3.9/site-packages/xarray/core/common.py\u001b[0m in \u001b[0;36m__bool__\u001b[0;34m(self)\u001b[0m\n\u001b[1;32m    127\u001b[0m \u001b[0;34m\u001b[0m\u001b[0m\n\u001b[1;32m    128\u001b[0m     \u001b[0;32mdef\u001b[0m \u001b[0m__bool__\u001b[0m\u001b[0;34m(\u001b[0m\u001b[0mself\u001b[0m\u001b[0;34m:\u001b[0m \u001b[0mAny\u001b[0m\u001b[0;34m)\u001b[0m \u001b[0;34m->\u001b[0m \u001b[0mbool\u001b[0m\u001b[0;34m:\u001b[0m\u001b[0;34m\u001b[0m\u001b[0;34m\u001b[0m\u001b[0m\n\u001b[0;32m--> 129\u001b[0;31m         \u001b[0;32mreturn\u001b[0m \u001b[0mbool\u001b[0m\u001b[0;34m(\u001b[0m\u001b[0mself\u001b[0m\u001b[0;34m.\u001b[0m\u001b[0mvalues\u001b[0m\u001b[0;34m)\u001b[0m\u001b[0;34m\u001b[0m\u001b[0;34m\u001b[0m\u001b[0m\n\u001b[0m\u001b[1;32m    130\u001b[0m \u001b[0;34m\u001b[0m\u001b[0m\n\u001b[1;32m    131\u001b[0m     \u001b[0;32mdef\u001b[0m \u001b[0m__float__\u001b[0m\u001b[0;34m(\u001b[0m\u001b[0mself\u001b[0m\u001b[0;34m:\u001b[0m \u001b[0mAny\u001b[0m\u001b[0;34m)\u001b[0m \u001b[0;34m->\u001b[0m \u001b[0mfloat\u001b[0m\u001b[0;34m:\u001b[0m\u001b[0;34m\u001b[0m\u001b[0;34m\u001b[0m\u001b[0m\n",
      "\u001b[0;32m/srv/conda/envs/ocetrac/lib/python3.9/site-packages/xarray/core/dataarray.py\u001b[0m in \u001b[0;36mvalues\u001b[0;34m(self)\u001b[0m\n\u001b[1;32m    632\u001b[0m     \u001b[0;32mdef\u001b[0m \u001b[0mvalues\u001b[0m\u001b[0;34m(\u001b[0m\u001b[0mself\u001b[0m\u001b[0;34m)\u001b[0m \u001b[0;34m->\u001b[0m \u001b[0mnp\u001b[0m\u001b[0;34m.\u001b[0m\u001b[0mndarray\u001b[0m\u001b[0;34m:\u001b[0m\u001b[0;34m\u001b[0m\u001b[0;34m\u001b[0m\u001b[0m\n\u001b[1;32m    633\u001b[0m         \u001b[0;34m\"\"\"The array's data as a numpy.ndarray\"\"\"\u001b[0m\u001b[0;34m\u001b[0m\u001b[0;34m\u001b[0m\u001b[0m\n\u001b[0;32m--> 634\u001b[0;31m         \u001b[0;32mreturn\u001b[0m \u001b[0mself\u001b[0m\u001b[0;34m.\u001b[0m\u001b[0mvariable\u001b[0m\u001b[0;34m.\u001b[0m\u001b[0mvalues\u001b[0m\u001b[0;34m\u001b[0m\u001b[0;34m\u001b[0m\u001b[0m\n\u001b[0m\u001b[1;32m    635\u001b[0m \u001b[0;34m\u001b[0m\u001b[0m\n\u001b[1;32m    636\u001b[0m     \u001b[0;34m@\u001b[0m\u001b[0mvalues\u001b[0m\u001b[0;34m.\u001b[0m\u001b[0msetter\u001b[0m\u001b[0;34m\u001b[0m\u001b[0;34m\u001b[0m\u001b[0m\n",
      "\u001b[0;32m/srv/conda/envs/ocetrac/lib/python3.9/site-packages/xarray/core/variable.py\u001b[0m in \u001b[0;36mvalues\u001b[0;34m(self)\u001b[0m\n\u001b[1;32m    518\u001b[0m     \u001b[0;32mdef\u001b[0m \u001b[0mvalues\u001b[0m\u001b[0;34m(\u001b[0m\u001b[0mself\u001b[0m\u001b[0;34m)\u001b[0m\u001b[0;34m:\u001b[0m\u001b[0;34m\u001b[0m\u001b[0;34m\u001b[0m\u001b[0m\n\u001b[1;32m    519\u001b[0m         \u001b[0;34m\"\"\"The variable's data as a numpy.ndarray\"\"\"\u001b[0m\u001b[0;34m\u001b[0m\u001b[0;34m\u001b[0m\u001b[0m\n\u001b[0;32m--> 520\u001b[0;31m         \u001b[0;32mreturn\u001b[0m \u001b[0m_as_array_or_item\u001b[0m\u001b[0;34m(\u001b[0m\u001b[0mself\u001b[0m\u001b[0;34m.\u001b[0m\u001b[0m_data\u001b[0m\u001b[0;34m)\u001b[0m\u001b[0;34m\u001b[0m\u001b[0;34m\u001b[0m\u001b[0m\n\u001b[0m\u001b[1;32m    521\u001b[0m \u001b[0;34m\u001b[0m\u001b[0m\n\u001b[1;32m    522\u001b[0m     \u001b[0;34m@\u001b[0m\u001b[0mvalues\u001b[0m\u001b[0;34m.\u001b[0m\u001b[0msetter\u001b[0m\u001b[0;34m\u001b[0m\u001b[0;34m\u001b[0m\u001b[0m\n",
      "\u001b[0;32m/srv/conda/envs/ocetrac/lib/python3.9/site-packages/xarray/core/variable.py\u001b[0m in \u001b[0;36m_as_array_or_item\u001b[0;34m(data)\u001b[0m\n\u001b[1;32m    260\u001b[0m     \u001b[0mTODO\u001b[0m\u001b[0;34m:\u001b[0m \u001b[0mremove\u001b[0m \u001b[0mthis\u001b[0m \u001b[0;34m(\u001b[0m\u001b[0mreplace\u001b[0m \u001b[0;32mwith\u001b[0m \u001b[0mnp\u001b[0m\u001b[0;34m.\u001b[0m\u001b[0masarray\u001b[0m\u001b[0;34m)\u001b[0m \u001b[0monce\u001b[0m \u001b[0mthese\u001b[0m \u001b[0missues\u001b[0m \u001b[0mare\u001b[0m \u001b[0mfixed\u001b[0m\u001b[0;34m\u001b[0m\u001b[0;34m\u001b[0m\u001b[0m\n\u001b[1;32m    261\u001b[0m     \"\"\"\n\u001b[0;32m--> 262\u001b[0;31m     \u001b[0mdata\u001b[0m \u001b[0;34m=\u001b[0m \u001b[0mdata\u001b[0m\u001b[0;34m.\u001b[0m\u001b[0mget\u001b[0m\u001b[0;34m(\u001b[0m\u001b[0;34m)\u001b[0m \u001b[0;32mif\u001b[0m \u001b[0misinstance\u001b[0m\u001b[0;34m(\u001b[0m\u001b[0mdata\u001b[0m\u001b[0;34m,\u001b[0m \u001b[0mcupy_array_type\u001b[0m\u001b[0;34m)\u001b[0m \u001b[0;32melse\u001b[0m \u001b[0mnp\u001b[0m\u001b[0;34m.\u001b[0m\u001b[0masarray\u001b[0m\u001b[0;34m(\u001b[0m\u001b[0mdata\u001b[0m\u001b[0;34m)\u001b[0m\u001b[0;34m\u001b[0m\u001b[0;34m\u001b[0m\u001b[0m\n\u001b[0m\u001b[1;32m    263\u001b[0m     \u001b[0;32mif\u001b[0m \u001b[0mdata\u001b[0m\u001b[0;34m.\u001b[0m\u001b[0mndim\u001b[0m \u001b[0;34m==\u001b[0m \u001b[0;36m0\u001b[0m\u001b[0;34m:\u001b[0m\u001b[0;34m\u001b[0m\u001b[0;34m\u001b[0m\u001b[0m\n\u001b[1;32m    264\u001b[0m         \u001b[0;32mif\u001b[0m \u001b[0mdata\u001b[0m\u001b[0;34m.\u001b[0m\u001b[0mdtype\u001b[0m\u001b[0;34m.\u001b[0m\u001b[0mkind\u001b[0m \u001b[0;34m==\u001b[0m \u001b[0;34m\"M\"\u001b[0m\u001b[0;34m:\u001b[0m\u001b[0;34m\u001b[0m\u001b[0;34m\u001b[0m\u001b[0m\n",
      "\u001b[0;32m/srv/conda/envs/ocetrac/lib/python3.9/site-packages/dask/array/core.py\u001b[0m in \u001b[0;36m__array__\u001b[0;34m(self, dtype, **kwargs)\u001b[0m\n\u001b[1;32m   1501\u001b[0m \u001b[0;34m\u001b[0m\u001b[0m\n\u001b[1;32m   1502\u001b[0m     \u001b[0;32mdef\u001b[0m \u001b[0m__array__\u001b[0m\u001b[0;34m(\u001b[0m\u001b[0mself\u001b[0m\u001b[0;34m,\u001b[0m \u001b[0mdtype\u001b[0m\u001b[0;34m=\u001b[0m\u001b[0;32mNone\u001b[0m\u001b[0;34m,\u001b[0m \u001b[0;34m**\u001b[0m\u001b[0mkwargs\u001b[0m\u001b[0;34m)\u001b[0m\u001b[0;34m:\u001b[0m\u001b[0;34m\u001b[0m\u001b[0;34m\u001b[0m\u001b[0m\n\u001b[0;32m-> 1503\u001b[0;31m         \u001b[0mx\u001b[0m \u001b[0;34m=\u001b[0m \u001b[0mself\u001b[0m\u001b[0;34m.\u001b[0m\u001b[0mcompute\u001b[0m\u001b[0;34m(\u001b[0m\u001b[0;34m)\u001b[0m\u001b[0;34m\u001b[0m\u001b[0;34m\u001b[0m\u001b[0m\n\u001b[0m\u001b[1;32m   1504\u001b[0m         \u001b[0;32mif\u001b[0m \u001b[0mdtype\u001b[0m \u001b[0;32mand\u001b[0m \u001b[0mx\u001b[0m\u001b[0;34m.\u001b[0m\u001b[0mdtype\u001b[0m \u001b[0;34m!=\u001b[0m \u001b[0mdtype\u001b[0m\u001b[0;34m:\u001b[0m\u001b[0;34m\u001b[0m\u001b[0;34m\u001b[0m\u001b[0m\n\u001b[1;32m   1505\u001b[0m             \u001b[0mx\u001b[0m \u001b[0;34m=\u001b[0m \u001b[0mx\u001b[0m\u001b[0;34m.\u001b[0m\u001b[0mastype\u001b[0m\u001b[0;34m(\u001b[0m\u001b[0mdtype\u001b[0m\u001b[0;34m)\u001b[0m\u001b[0;34m\u001b[0m\u001b[0;34m\u001b[0m\u001b[0m\n",
      "\u001b[0;32m/srv/conda/envs/ocetrac/lib/python3.9/site-packages/dask/base.py\u001b[0m in \u001b[0;36mcompute\u001b[0;34m(self, **kwargs)\u001b[0m\n\u001b[1;32m    283\u001b[0m         \u001b[0mdask\u001b[0m\u001b[0;34m.\u001b[0m\u001b[0mbase\u001b[0m\u001b[0;34m.\u001b[0m\u001b[0mcompute\u001b[0m\u001b[0;34m\u001b[0m\u001b[0;34m\u001b[0m\u001b[0m\n\u001b[1;32m    284\u001b[0m         \"\"\"\n\u001b[0;32m--> 285\u001b[0;31m         \u001b[0;34m(\u001b[0m\u001b[0mresult\u001b[0m\u001b[0;34m,\u001b[0m\u001b[0;34m)\u001b[0m \u001b[0;34m=\u001b[0m \u001b[0mcompute\u001b[0m\u001b[0;34m(\u001b[0m\u001b[0mself\u001b[0m\u001b[0;34m,\u001b[0m \u001b[0mtraverse\u001b[0m\u001b[0;34m=\u001b[0m\u001b[0;32mFalse\u001b[0m\u001b[0;34m,\u001b[0m \u001b[0;34m**\u001b[0m\u001b[0mkwargs\u001b[0m\u001b[0;34m)\u001b[0m\u001b[0;34m\u001b[0m\u001b[0;34m\u001b[0m\u001b[0m\n\u001b[0m\u001b[1;32m    286\u001b[0m         \u001b[0;32mreturn\u001b[0m \u001b[0mresult\u001b[0m\u001b[0;34m\u001b[0m\u001b[0;34m\u001b[0m\u001b[0m\n\u001b[1;32m    287\u001b[0m \u001b[0;34m\u001b[0m\u001b[0m\n",
      "\u001b[0;32m/srv/conda/envs/ocetrac/lib/python3.9/site-packages/dask/base.py\u001b[0m in \u001b[0;36mcompute\u001b[0;34m(*args, **kwargs)\u001b[0m\n\u001b[1;32m    565\u001b[0m         \u001b[0mpostcomputes\u001b[0m\u001b[0;34m.\u001b[0m\u001b[0mappend\u001b[0m\u001b[0;34m(\u001b[0m\u001b[0mx\u001b[0m\u001b[0;34m.\u001b[0m\u001b[0m__dask_postcompute__\u001b[0m\u001b[0;34m(\u001b[0m\u001b[0;34m)\u001b[0m\u001b[0;34m)\u001b[0m\u001b[0;34m\u001b[0m\u001b[0;34m\u001b[0m\u001b[0m\n\u001b[1;32m    566\u001b[0m \u001b[0;34m\u001b[0m\u001b[0m\n\u001b[0;32m--> 567\u001b[0;31m     \u001b[0mresults\u001b[0m \u001b[0;34m=\u001b[0m \u001b[0mschedule\u001b[0m\u001b[0;34m(\u001b[0m\u001b[0mdsk\u001b[0m\u001b[0;34m,\u001b[0m \u001b[0mkeys\u001b[0m\u001b[0;34m,\u001b[0m \u001b[0;34m**\u001b[0m\u001b[0mkwargs\u001b[0m\u001b[0;34m)\u001b[0m\u001b[0;34m\u001b[0m\u001b[0;34m\u001b[0m\u001b[0m\n\u001b[0m\u001b[1;32m    568\u001b[0m     \u001b[0;32mreturn\u001b[0m \u001b[0mrepack\u001b[0m\u001b[0;34m(\u001b[0m\u001b[0;34m[\u001b[0m\u001b[0mf\u001b[0m\u001b[0;34m(\u001b[0m\u001b[0mr\u001b[0m\u001b[0;34m,\u001b[0m \u001b[0;34m*\u001b[0m\u001b[0ma\u001b[0m\u001b[0;34m)\u001b[0m \u001b[0;32mfor\u001b[0m \u001b[0mr\u001b[0m\u001b[0;34m,\u001b[0m \u001b[0;34m(\u001b[0m\u001b[0mf\u001b[0m\u001b[0;34m,\u001b[0m \u001b[0ma\u001b[0m\u001b[0;34m)\u001b[0m \u001b[0;32min\u001b[0m \u001b[0mzip\u001b[0m\u001b[0;34m(\u001b[0m\u001b[0mresults\u001b[0m\u001b[0;34m,\u001b[0m \u001b[0mpostcomputes\u001b[0m\u001b[0;34m)\u001b[0m\u001b[0;34m]\u001b[0m\u001b[0;34m)\u001b[0m\u001b[0;34m\u001b[0m\u001b[0;34m\u001b[0m\u001b[0m\n\u001b[1;32m    569\u001b[0m \u001b[0;34m\u001b[0m\u001b[0m\n",
      "\u001b[0;32m/srv/conda/envs/ocetrac/lib/python3.9/site-packages/xarray/tests/__init__.py\u001b[0m in \u001b[0;36m__call__\u001b[0;34m(self, dsk, keys, **kwargs)\u001b[0m\n\u001b[1;32m    114\u001b[0m         \u001b[0mself\u001b[0m\u001b[0;34m.\u001b[0m\u001b[0mtotal_computes\u001b[0m \u001b[0;34m+=\u001b[0m \u001b[0;36m1\u001b[0m\u001b[0;34m\u001b[0m\u001b[0;34m\u001b[0m\u001b[0m\n\u001b[1;32m    115\u001b[0m         \u001b[0;32mif\u001b[0m \u001b[0mself\u001b[0m\u001b[0;34m.\u001b[0m\u001b[0mtotal_computes\u001b[0m \u001b[0;34m>\u001b[0m \u001b[0mself\u001b[0m\u001b[0;34m.\u001b[0m\u001b[0mmax_computes\u001b[0m\u001b[0;34m:\u001b[0m\u001b[0;34m\u001b[0m\u001b[0;34m\u001b[0m\u001b[0m\n\u001b[0;32m--> 116\u001b[0;31m             raise RuntimeError(\n\u001b[0m\u001b[1;32m    117\u001b[0m                 \u001b[0;34m\"Too many computes. Total: %d > max: %d.\"\u001b[0m\u001b[0;34m\u001b[0m\u001b[0;34m\u001b[0m\u001b[0m\n\u001b[1;32m    118\u001b[0m                 \u001b[0;34m%\u001b[0m \u001b[0;34m(\u001b[0m\u001b[0mself\u001b[0m\u001b[0;34m.\u001b[0m\u001b[0mtotal_computes\u001b[0m\u001b[0;34m,\u001b[0m \u001b[0mself\u001b[0m\u001b[0;34m.\u001b[0m\u001b[0mmax_computes\u001b[0m\u001b[0;34m)\u001b[0m\u001b[0;34m\u001b[0m\u001b[0;34m\u001b[0m\u001b[0m\n",
      "\u001b[0;31mRuntimeError\u001b[0m: Too many computes. Total: 1 > max: 0."
     ]
    }
   ],
   "source": [
    "test_track_dask_lazy(da, mask, radius=2, min_size_quartile=0, xdim='x', ydim='y')"
   ]
  },
  {
   "cell_type": "code",
   "execution_count": 25,
   "id": "vocational-specific",
   "metadata": {},
   "outputs": [],
   "source": [
    "test_morphological_operations(da, mask, radius=2, min_size_quartile=0.75, xdim='x', ydim='y')"
   ]
  },
  {
   "cell_type": "code",
   "execution_count": 43,
   "id": "adolescent-crisis",
   "metadata": {},
   "outputs": [],
   "source": [
    "test_apply_mask(da, mask, radius=2, min_size_quartile=0.75, xdim='x', ydim='y')"
   ]
  },
  {
   "cell_type": "code",
   "execution_count": 51,
   "id": "governing-array",
   "metadata": {},
   "outputs": [
    {
     "name": "stdout",
     "output_type": "stream",
     "text": [
      "minimum area:  129.0\n"
     ]
    }
   ],
   "source": [
    "test_filter_area(da, mask, radius=2, min_size_quartile=0.75, xdim='x', ydim='y')"
   ]
  },
  {
   "cell_type": "code",
   "execution_count": 62,
   "id": "coordinate-explosion",
   "metadata": {},
   "outputs": [],
   "source": [
    "test_label_either(da, mask, radius=2, min_size_quartile=0.75, xdim='x', ydim='y')"
   ]
  },
  {
   "cell_type": "code",
   "execution_count": 63,
   "id": "legal-columbia",
   "metadata": {},
   "outputs": [
    {
     "name": "stdout",
     "output_type": "stream",
     "text": [
      "minimum area:  129.0\n"
     ]
    }
   ],
   "source": [
    "test_wrap(da, mask, radius=2, min_size_quartile=0.75, xdim='x', ydim='y')"
   ]
  },
  {
   "cell_type": "code",
   "execution_count": null,
   "id": "therapeutic-suspension",
   "metadata": {},
   "outputs": [],
   "source": []
  }
 ],
 "metadata": {
  "kernelspec": {
   "display_name": "ocetrac",
   "language": "python",
   "name": "ocetrac"
  },
  "language_info": {
   "codemirror_mode": {
    "name": "ipython",
    "version": 3
   },
   "file_extension": ".py",
   "mimetype": "text/x-python",
   "name": "python",
   "nbconvert_exporter": "python",
   "pygments_lexer": "ipython3",
   "version": "3.9.5"
  }
 },
 "nbformat": 4,
 "nbformat_minor": 5
}
